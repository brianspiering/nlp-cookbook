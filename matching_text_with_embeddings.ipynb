{
 "cells": [
  {
   "cell_type": "markdown",
   "id": "adc71d31",
   "metadata": {},
   "source": [
    "Matching Text With Embeddings\n",
    "-----\n",
    "\n",
    "Given a short piece of text, find the closest matches from a group of documents."
   ]
  },
  {
   "cell_type": "code",
   "execution_count": 30,
   "id": "f87ad975",
   "metadata": {},
   "outputs": [],
   "source": [
    "import gensim\n",
    "import gensim.downloader as api\n",
    "from   gensim.utils import tokenize"
   ]
  },
  {
   "cell_type": "code",
   "execution_count": 31,
   "id": "257f71f6",
   "metadata": {},
   "outputs": [],
   "source": [
    "def preprocess_text(text):\n",
    "    return list(tokenize(text.lower()))"
   ]
  },
  {
   "cell_type": "code",
   "execution_count": 32,
   "id": "1999f822",
   "metadata": {},
   "outputs": [],
   "source": [
    "# Setup models\n",
    "model = api.load('word2vec-google-news-300')"
   ]
  },
  {
   "cell_type": "markdown",
   "id": "715d6a5b",
   "metadata": {},
   "source": [
    "Define data\n",
    "----\n",
    "\n",
    "Let's match resumes to job postings."
   ]
  },
  {
   "cell_type": "code",
   "execution_count": 40,
   "id": "1de04545",
   "metadata": {},
   "outputs": [],
   "source": [
    "job_postings = [\"We are looking for an experienced and passionate teacher to join our team! The ideal candidate will have a Bachelor's degree and be certified to teach in the state of Anytown. We are looking for someone with a deep commitment to helping children learn and develop, as well as the ability to create a supportive and stimulating learning environment.\",\n",
    "                \"We are looking for an experienced and talented cook to join our team. The ideal candidate will have a commitment to excellence and a passion for food. The cook will be responsible for preparing meals in accordance with established recipes and standards.\",\n",
    "                \"We are seeking a highly motivated and customer service-oriented individual to join our team as a Waiter/Waitress. In this role, you will be responsible for taking orders, serving food and drinks, and providing friendly customer service to guests. The ideal candidate will possess excellent communication and customer service skills, have a positive attitude, and the ability to work in a fast-paced environment. Knowledge of food and beverage service is preferred but not required.\",\n",
    "                \"We are looking for an experienced and highly motivated teacher. Ideally, you are a creative and enthusiastic individual who is dedicated to providing students with an exceptional learning experience.\",\n",
    "               ]\n",
    "job_postings_processed = [preprocess_text(jp) for jp in job_postings]"
   ]
  },
  {
   "cell_type": "code",
   "execution_count": 41,
   "id": "680e50bd",
   "metadata": {},
   "outputs": [],
   "source": [
    "resume = \"Seeking education position\" # Note that \"education\" does not appear in any of the job postings\n",
    "resume_processed = preprocess_text(resume)"
   ]
  },
  {
   "cell_type": "markdown",
   "id": "7a7e98c3",
   "metadata": {},
   "source": [
    "Matching\n",
    "----\n",
    "\n",
    "Let's use the Word Mover's Distance (WMD) algorithm to match text documents. \n",
    "\n",
    "\n",
    "<br>\n",
    "<center><img src=\"images/wmd.png\" width=\"75%\"/></center>\n",
    "\n",
    "WMD assess the “distance” between two documents in a meaningful way even when they have no words in common. WMD used the vector embeddings of words. WMD then finds the minimum “traveling distance” between the collection of word vectors. In other words the most efficient way to “move” the distribution of one document's vectors to the distribution of another documents  vector."
   ]
  },
  {
   "cell_type": "code",
   "execution_count": 42,
   "id": "e4ae8048",
   "metadata": {},
   "outputs": [],
   "source": [
    "def calculate_distances(resume, job_postings, model):\n",
    "    results = {}\n",
    "    for i, job_post in enumerate(job_postings):\n",
    "        results[i] = model.wmdistance(resume, job_post)\n",
    "        \n",
    "    # Sort the results by closest distance\n",
    "    results = sorted(results.items(), key=lambda x: x[1])\n",
    "    \n",
    "    return results"
   ]
  },
  {
   "cell_type": "code",
   "execution_count": 43,
   "id": "04e0f02a",
   "metadata": {},
   "outputs": [],
   "source": [
    "# This can take a little time because of the WMD algorithm\n",
    "results = calculate_distances(resume_processed, job_postings_processed, model)"
   ]
  },
  {
   "cell_type": "code",
   "execution_count": 44,
   "id": "dae25357",
   "metadata": {},
   "outputs": [
    {
     "data": {
      "text/plain": [
       "'We are looking for an experienced and highly motivated teacher. Ideally, you are a creative and enthusiastic individual who is dedicated to providing students with an exceptional learning experience.'"
      ]
     },
     "execution_count": 44,
     "metadata": {},
     "output_type": "execute_result"
    }
   ],
   "source": [
    "# Let's look at the top match\n",
    "idx_top_match = results[0][0]\n",
    "job_postings[idx_top_match]"
   ]
  },
  {
   "cell_type": "code",
   "execution_count": 45,
   "id": "4c9ab949",
   "metadata": {},
   "outputs": [
    {
     "data": {
      "text/plain": [
       "\"We are looking for an experienced and passionate teacher to join our team! The ideal candidate will have a Bachelor's degree and be certified to teach in the state of Anytown. We are looking for someone with a deep commitment to helping children learn and develop, as well as the ability to create a supportive and stimulating learning environment.\""
      ]
     },
     "execution_count": 45,
     "metadata": {},
     "output_type": "execute_result"
    }
   ],
   "source": [
    "# Let's look at the second match\n",
    "idx_second_match = results[1][0]\n",
    "job_postings[idx_second_match]"
   ]
  },
  {
   "cell_type": "code",
   "execution_count": 46,
   "id": "622206b6",
   "metadata": {},
   "outputs": [
    {
     "data": {
      "text/plain": [
       "'We are looking for an experienced and talented cook to join our team. The ideal candidate will have a commitment to excellence and a passion for food. The cook will be responsible for preparing meals in accordance with established recipes and standards.'"
      ]
     },
     "execution_count": 46,
     "metadata": {},
     "output_type": "execute_result"
    }
   ],
   "source": [
    "# Another example\n",
    "resume = \"I like making food\" # Note this should return cook postings over server postings\n",
    "resume_processed = preprocess_text(resume)\n",
    "results2 = calculate_distances(resume_processed, job_postings_processed, model)\n",
    "idx_top_match = results2[0][0]\n",
    "job_postings[idx_top_match]"
   ]
  },
  {
   "cell_type": "markdown",
   "id": "e5a2b1a4",
   "metadata": {},
   "source": [
    "<br>\n",
    "<br>\n",
    "<br>\n",
    "\n",
    "------"
   ]
  }
 ],
 "metadata": {
  "kernelspec": {
   "display_name": "Python 3 (ipykernel)",
   "language": "python",
   "name": "python3"
  },
  "language_info": {
   "codemirror_mode": {
    "name": "ipython",
    "version": 3
   },
   "file_extension": ".py",
   "mimetype": "text/x-python",
   "name": "python",
   "nbconvert_exporter": "python",
   "pygments_lexer": "ipython3",
   "version": "3.9.16"
  }
 },
 "nbformat": 4,
 "nbformat_minor": 5
}
