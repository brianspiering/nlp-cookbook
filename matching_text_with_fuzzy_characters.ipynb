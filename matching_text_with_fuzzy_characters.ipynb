{
 "cells": [
  {
   "attachments": {},
   "cell_type": "markdown",
   "id": "adc71d31",
   "metadata": {},
   "source": [
    "Matching Text with Fuzzy Characters\n",
    "-----\n",
    "\n",
    "Let's say you have the following strings:"
   ]
  },
  {
   "cell_type": "code",
   "execution_count": 1,
   "id": "99170507",
   "metadata": {},
   "outputs": [],
   "source": [
    "s0 = \"fuzzy rabbit\"\n",
    "s1 = \"wuzzy rabbit\"\n",
    "s2 = \"wuzzy wabbit\"\n",
    "s3 = \"wuzzy bear\""
   ]
  },
  {
   "attachments": {},
   "cell_type": "markdown",
   "id": "7c804baf",
   "metadata": {},
   "source": [
    "You want to cluster s0, s1, and s2 together and s3 should be different clusters.\n",
    "\n",
    "This is best done at the character level (an example of word-level semenatic clustering is [here](https://github.com/brianspiering/nlp-cookbook/blob/main/matching_text_with_embeddings.ipynb)).\n",
    "\n",
    "Let's frame this with common terminology. Hashing is mapping an object, a string in this case, to an integer. What you want are collisions (i.e., similar objects are mapped to the same integer bucket). The goal is to pick a hashing function that does that based on the number of shared letters in the string.\n",
    "\n",
    "A scalable implementation of this idea is locality-sensitive hashing (LSH)."
   ]
  },
  {
   "cell_type": "code",
   "execution_count": 2,
   "id": "f87ad975",
   "metadata": {},
   "outputs": [],
   "source": [
    "# Use the excellent datasketch library\n",
    "from datasketch import MinHash, MinHashLSH\n",
    "\n",
    "strings = [s0, s1, s2, s3]\n",
    "\n",
    "# Hash each string, letter-by-letter\n",
    "hashes = []\n",
    "for s in strings:\n",
    "    m = MinHash(num_perm=128)\n",
    "    for c in s:\n",
    "        m.update(c.encode('utf8')) \n",
    "    hashes.append(m)\n",
    "\n",
    "# Create LSH storage for scalable querying\n",
    "lsh = MinHashLSH(threshold=0.8, num_perm=128)\n",
    "for n, hash_value in enumerate(hashes):\n",
    "    lsh.insert(f\"s{n}\", hash_value)\n",
    "\n",
    "# Test that the queries for the hashed values return the expected neighbors\n",
    "hash_s0 = hashes[0]\n",
    "assert set(lsh.query(hash_s0)) == set(['s0', 's1', 's2'])\n",
    "hash_s3 = hashes[3]\n",
    "assert set(lsh.query(hash_s3)) == set(['s3'])"
   ]
  },
  {
   "cell_type": "markdown",
   "id": "e5a2b1a4",
   "metadata": {},
   "source": [
    "<br>\n",
    "<br>\n",
    "<br>\n",
    "\n",
    "------"
   ]
  }
 ],
 "metadata": {
  "kernelspec": {
   "display_name": "Python 3 (ipykernel)",
   "language": "python",
   "name": "python3"
  },
  "language_info": {
   "codemirror_mode": {
    "name": "ipython",
    "version": 3
   },
   "file_extension": ".py",
   "mimetype": "text/x-python",
   "name": "python",
   "nbconvert_exporter": "python",
   "pygments_lexer": "ipython3",
   "version": "3.9.16"
  }
 },
 "nbformat": 4,
 "nbformat_minor": 5
}
