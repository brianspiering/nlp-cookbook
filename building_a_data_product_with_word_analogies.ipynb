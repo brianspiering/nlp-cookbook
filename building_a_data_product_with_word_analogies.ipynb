{
 "cells": [
  {
   "attachments": {},
   "cell_type": "markdown",
   "id": "d169c883",
   "metadata": {},
   "source": [
    "Building a recommendation system using word analogies\n",
    "--------\n",
    "\n",
    "Let's say we want to build a recommendation engine for job seekers. \n",
    "\n",
    "The job seeker has a list of previous job titles, and we want to suggest jobs for them. Let's find better jobs for them given their previous work history.\n",
    "\n",
    "This problem can be as a word analogy problem:\n",
    "\n",
    "> Man is to king as woman is to queen\n",
    "\n",
    "In the reframe as job promotion:\n",
    "\n",
    "> Prince is to king as princess is to ________.\n",
    "\n",
    "Given that word vectors can solve the word analogy problem, let's use word vectors to suggest job title promotions."
   ]
  },
  {
   "cell_type": "code",
   "execution_count": 6,
   "id": "705ad665",
   "metadata": {},
   "outputs": [],
   "source": [
    "import gensim\n",
    "import gensim.downloader"
   ]
  },
  {
   "cell_type": "code",
   "execution_count": 7,
   "id": "06f9436e",
   "metadata": {},
   "outputs": [],
   "source": [
    "model = gensim.downloader.load('glove-wiki-gigaword-300')"
   ]
  },
  {
   "cell_type": "code",
   "execution_count": 8,
   "id": "ee43006b",
   "metadata": {},
   "outputs": [],
   "source": [
    "def complete_analogy(worda, wordb, wordc):\n",
    "    \"Return the single best match that completes: {worda} is to {wordb} as {wordc} is ____\"\n",
    "    try:\n",
    "        result = model.most_similar(negative=[worda], \n",
    "                                    positive=[wordb, wordc])\n",
    "        # Remove simple purals\n",
    "        top_result = result[0][0]\n",
    "        if top_result != wordc+'s':\n",
    "            return top_result\n",
    "        else:\n",
    "            second_best_result = result[1][0]\n",
    "            return second_best_result\n",
    "    except KeyError as error:\n",
    "        return error\n",
    "\n",
    "assert complete_analogy(\"man\", \"king\", \"woman\") == 'queen'"
   ]
  },
  {
   "cell_type": "code",
   "execution_count": 9,
   "id": "a6cf4b6d",
   "metadata": {},
   "outputs": [],
   "source": [
    "lower_position  = \"prince\"\n",
    "higher_position = \"king\"\n",
    "original_job_titles = ['princess', 'valet', 'gardener'] \n",
    "promotions = [complete_analogy(lower_position, higher_position, job_title) for job_title in original_job_titles]"
   ]
  },
  {
   "cell_type": "code",
   "execution_count": 10,
   "id": "a1d45ae9",
   "metadata": {},
   "outputs": [
    {
     "name": "stdout",
     "output_type": "stream",
     "text": [
      "A(n) princess can be promoted to a(n) queen.\n",
      "A(n) valet can be promoted to a(n) concierge.\n",
      "A(n) gardener can be promoted to a(n) horticulturist.\n"
     ]
    }
   ],
   "source": [
    "for job_title, promotion in zip(original_job_titles, promotions):\n",
    "    print(f\"A(n) {job_title} can be promoted to a(n) {promotion}.\")"
   ]
  },
  {
   "cell_type": "markdown",
   "id": "4e577244",
   "metadata": {},
   "source": [
    "Building A Data Product Notes\n",
    "-----\n",
    "\n",
    "The most important element of building a data product is a large quantity of high quality data. For the actual model, I built a custom embedding space using millions of job postings.\n",
    "\n",
    "Another element is error handling. Above I had to handle simple plurals. The actual system had complex logical to handle edge cases."
   ]
  },
  {
   "cell_type": "markdown",
   "id": "d7628c2e",
   "metadata": {},
   "source": [
    "<center><h2>Sources of Inspiration</h2></center>\n",
    "\n",
    "- https://radimrehurek.com/gensim/models/keyedvectors.html\n",
    "- https://towardsdatascience.com/how-to-solve-analogies-with-word2vec-6ebaf2354009"
   ]
  }
 ],
 "metadata": {
  "kernelspec": {
   "display_name": "Python 3 (ipykernel)",
   "language": "python",
   "name": "python3"
  },
  "language_info": {
   "codemirror_mode": {
    "name": "ipython",
    "version": 3
   },
   "file_extension": ".py",
   "mimetype": "text/x-python",
   "name": "python",
   "nbconvert_exporter": "python",
   "pygments_lexer": "ipython3",
   "version": "3.9.16"
  }
 },
 "nbformat": 4,
 "nbformat_minor": 5
}
