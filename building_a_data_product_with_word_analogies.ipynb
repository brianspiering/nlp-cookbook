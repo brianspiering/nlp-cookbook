{
 "cells": [
  {
   "cell_type": "markdown",
   "id": "d169c883",
   "metadata": {},
   "source": [
    "Building a recommendation system using word analogies\n",
    "--------\n",
    "\n",
    "Word embeddings can be used to build data products. \n",
    "\n",
    "When I worked at an employment website, I built a recommendation engine for job seekers. The job seeker would provide a list of previous job titles and we would suggest jobs for them. My goal was given a current job title, what could I suggest as a better job? By suggesting career advancement advice, we could value to the job seeker.\n",
    "\n",
    "I framed the data product as a word analogy problem.\n",
    "\n",
    "> Man is to king as woman is to queen\n",
    "\n",
    "or\n",
    "\n",
    "> Prince is to king as princess is to ________."
   ]
  },
  {
   "cell_type": "code",
   "execution_count": 105,
   "id": "705ad665",
   "metadata": {},
   "outputs": [],
   "source": [
    "import gensim\n",
    "import gensim.downloader"
   ]
  },
  {
   "cell_type": "code",
   "execution_count": 106,
   "id": "06f9436e",
   "metadata": {},
   "outputs": [],
   "source": [
    "model = gensim.downloader.load('glove-wiki-gigaword-300')"
   ]
  },
  {
   "cell_type": "code",
   "execution_count": 107,
   "id": "ee43006b",
   "metadata": {},
   "outputs": [],
   "source": [
    "def complete_analogy(worda, wordb, wordc):\n",
    "    \"Return the single best match that completes: {worda} is to {wordb} as {wordc} is ____\"\n",
    "    try:\n",
    "        result = model.most_similar(negative=[worda], \n",
    "                                    positive=[wordb, wordc])\n",
    "        # Remove simple purals\n",
    "        top_result = result[0][0]\n",
    "        if top_result != wordc+'s':\n",
    "            return top_result\n",
    "        else:\n",
    "            second_best_result = result[1][0]\n",
    "            return second_best_result\n",
    "    except KeyError as error:\n",
    "        return error\n",
    "\n",
    "assert complete_analogy(\"man\", \"king\", \"woman\") == 'queen'"
   ]
  },
  {
   "cell_type": "code",
   "execution_count": 108,
   "id": "a6cf4b6d",
   "metadata": {},
   "outputs": [],
   "source": [
    "lower_position  = \"prince\"\n",
    "higher_position = \"king\"\n",
    "original_job_titles = ['princess', 'valet', 'gardener'] \n",
    "promotions = [complete_analogy(lower_position, higher_position, job_title) for job_title in original_job_titles]"
   ]
  },
  {
   "cell_type": "code",
   "execution_count": 109,
   "id": "a1d45ae9",
   "metadata": {},
   "outputs": [
    {
     "name": "stdout",
     "output_type": "stream",
     "text": [
      "A princess can be promoted to queen.\n",
      "A valet can be promoted to concierge.\n",
      "A gardener can be promoted to horticulturist.\n"
     ]
    }
   ],
   "source": [
    "for job_title, promotion in zip(original_job_titles, promotions):\n",
    "    print(f\"A {job_title} can be promoted to {promotion}.\")"
   ]
  },
  {
   "cell_type": "markdown",
   "id": "4e577244",
   "metadata": {},
   "source": [
    "Building A Data Product Notes\n",
    "-----\n",
    "\n",
    "The most important element of building a data product is a large quantity of high quality data. For the actual model, I built a custom embedding space using millions of job postings.\n",
    "\n",
    "Another element is error handling. Above I had to handle simple plurals. The actual system had complex logical to handle edge cases."
   ]
  },
  {
   "cell_type": "markdown",
   "id": "d7628c2e",
   "metadata": {},
   "source": [
    "<center><h2>Sources of Inspiration</h2></center>\n",
    "\n",
    "- https://radimrehurek.com/gensim/models/keyedvectors.html\n",
    "- https://towardsdatascience.com/how-to-solve-analogies-with-word2vec-6ebaf2354009"
   ]
  }
 ],
 "metadata": {
  "kernelspec": {
   "display_name": "Python 3 (ipykernel)",
   "language": "python",
   "name": "python3"
  },
  "language_info": {
   "codemirror_mode": {
    "name": "ipython",
    "version": 3
   },
   "file_extension": ".py",
   "mimetype": "text/x-python",
   "name": "python",
   "nbconvert_exporter": "python",
   "pygments_lexer": "ipython3",
   "version": "3.9.16"
  }
 },
 "nbformat": 4,
 "nbformat_minor": 5
}
